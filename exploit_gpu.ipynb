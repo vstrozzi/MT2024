{
 "cells": [
  {
   "cell_type": "code",
   "execution_count": 1,
   "metadata": {},
   "outputs": [
    {
     "name": "stdout",
     "output_type": "stream",
     "text": [
      "Tue Nov 12 15:56:31 2024       \n",
      "+---------------------------------------------------------------------------------------+\n",
      "| NVIDIA-SMI 535.183.01             Driver Version: 535.183.01   CUDA Version: 12.2     |\n",
      "|-----------------------------------------+----------------------+----------------------+\n",
      "| GPU  Name                 Persistence-M | Bus-Id        Disp.A | Volatile Uncorr. ECC |\n",
      "| Fan  Temp   Perf          Pwr:Usage/Cap |         Memory-Usage | GPU-Util  Compute M. |\n",
      "|                                         |                      |               MIG M. |\n",
      "|=========================================+======================+======================|\n",
      "|   0  NVIDIA GeForce RTX 2080 Ti     On  | 00000000:00:0F.0 Off |                  N/A |\n",
      "| 27%   31C    P8              15W / 260W |      1MiB / 11264MiB |      0%      Default |\n",
      "|                                         |                      |                  N/A |\n",
      "+-----------------------------------------+----------------------+----------------------+\n",
      "                                                                                         \n",
      "+---------------------------------------------------------------------------------------+\n",
      "| Processes:                                                                            |\n",
      "|  GPU   GI   CI        PID   Type   Process name                            GPU Memory |\n",
      "|        ID   ID                                                             Usage      |\n",
      "|=======================================================================================|\n",
      "|  No running processes found                                                           |\n",
      "+---------------------------------------------------------------------------------------+\n"
     ]
    }
   ],
   "source": [
    "!nvidia-smi"
   ]
  },
  {
   "cell_type": "markdown",
   "metadata": {},
   "source": [
    "# Script to run code on the cluster"
   ]
  },
  {
   "cell_type": "code",
   "execution_count": 2,
   "metadata": {},
   "outputs": [
    {
     "data": {
      "text/plain": [
       "True"
      ]
     },
     "execution_count": 2,
     "metadata": {},
     "output_type": "execute_result"
    }
   ],
   "source": [
    "import torch\n",
    "torch.cuda.is_available()"
   ]
  },
  {
   "cell_type": "code",
   "execution_count": 4,
   "metadata": {},
   "outputs": [
    {
     "name": "stdout",
     "output_type": "stream",
     "text": [
      "/cluster/apps/vogtlab/users/vstrozzi/software/anaconda/envs/MT/lib/python3.12/site-packages/timm/models/layers/__init__.py:48: FutureWarning: Importing from timm.models.layers is deprecated, please import via timm.layers\n",
      "  warnings.warn(f\"Importing from {__name__} is deprecated, please import via timm.layers\", FutureWarning)\n",
      "Using local files\n",
      "/cluster/work/vogtlab/Group/vstrozzi/working-MT2024/utils/factory.py:86: FutureWarning: You are using `torch.load` with `weights_only=False` (the current default value), which uses the default pickle module implicitly. It is possible to construct malicious pickle data which will execute arbitrary code during unpickling (See https://github.com/pytorch/pytorch/blob/main/SECURITY.md#untrusted-models for more details). In a future release, the default value for `weights_only` will be flipped to `True`. This limits the functions that could be executed during unpickling. Arbitrary objects will no longer be allowed to be loaded via this mode unless they are explicitly allowlisted by the user via `torch.serialization.add_safe_globals`. We recommend you start setting `weights_only=True` for any use case where you don't have full control of the loaded file. Please open an issue on GitHub for any issues related to this experimental feature.\n",
      "  checkpoint = torch.load(checkpoint_path, map_location=map_location)\n",
      "Model parameters: 151,277,313\n",
      "Context length: 77\n",
      "Vocab size: 49408\n",
      "Len of res: 12\n",
      "/cluster/apps/vogtlab/users/vstrozzi/software/anaconda/envs/MT/lib/python3.12/site-packages/torch/utils/data/dataloader.py:617: UserWarning: This DataLoader will create 10 worker processes in total. Our suggested max number of worker in current system is 1, which is smaller than what this DataLoader is going to create. Please be aware that excessive worker creation might get DataLoader running slow or even freeze, lower the worker number to avoid potential slowness/freeze if necessary.\n",
      "  warnings.warn(\n",
      "100%|███████████████████████████████████████| 1563/1563 [03:24<00:00,  7.63it/s]\n"
     ]
    }
   ],
   "source": [
    "!python compute_prs.py --dataset imagenet --device cuda:0 --model ViT-B-32 --pretrained laion2b_s34b_b79k --data_path datasets/imagenet --cache_dir \"../cache/\" --samples_per_class 3\n"
   ]
  },
  {
   "cell_type": "code",
   "execution_count": 12,
   "metadata": {},
   "outputs": [
    {
     "name": "stdout",
     "output_type": "stream",
     "text": [
      "/cluster/apps/vogtlab/users/vstrozzi/software/anaconda/envs/MT/lib/python3.12/site-packages/timm/models/layers/__init__.py:48: FutureWarning: Importing from timm.models.layers is deprecated, please import via timm.layers\n",
      "  warnings.warn(f\"Importing from {__name__} is deprecated, please import via timm.layers\", FutureWarning)\n",
      "Using local files\n",
      "/cluster/work/vogtlab/Group/vstrozzi/working-MT2024/utils/factory.py:86: FutureWarning: You are using `torch.load` with `weights_only=False` (the current default value), which uses the default pickle module implicitly. It is possible to construct malicious pickle data which will execute arbitrary code during unpickling (See https://github.com/pytorch/pytorch/blob/main/SECURITY.md#untrusted-models for more details). In a future release, the default value for `weights_only` will be flipped to `True`. This limits the functions that could be executed during unpickling. Arbitrary objects will no longer be allowed to be loaded via this mode unless they are explicitly allowlisted by the user via `torch.serialization.add_safe_globals`. We recommend you start setting `weights_only=True` for any use case where you don't have full control of the loaded file. Please open an issue on GitHub for any issues related to this experimental feature.\n",
      "  checkpoint = torch.load(checkpoint_path, map_location=map_location)\n",
      "Model parameters: 151,277,313\n",
      "Context length: 77\n",
      "Vocab size: 49408\n",
      "/cluster/work/vogtlab/Group/vstrozzi/working-MT2024/compute_text_projection.py:69: FutureWarning: `torch.cuda.amp.autocast(args...)` is deprecated. Please use `torch.amp.autocast('cuda', args...)` instead.\n",
      "  with torch.no_grad(), autocast():\n",
      "100%|███████████████████████████████████████| 1000/1000 [00:39<00:00, 25.48it/s]\n"
     ]
    }
   ],
   "source": [
    "!python compute_text_projection.py  --dataset imagenet --device cuda:0 --model ViT-B-32 --pretrained laion2b_s34b_b79k --cache_dir \"../cache/\""
   ]
  },
  {
   "cell_type": "code",
   "execution_count": 13,
   "metadata": {},
   "outputs": [
    {
     "name": "stdout",
     "output_type": "stream",
     "text": [
      "/cluster/apps/vogtlab/users/vstrozzi/software/anaconda/envs/MT/lib/python3.12/site-packages/timm/models/layers/__init__.py:48: FutureWarning: Importing from timm.models.layers is deprecated, please import via timm.layers\n",
      "  warnings.warn(f\"Importing from {__name__} is deprecated, please import via timm.layers\", FutureWarning)\n",
      "Using local files\n",
      "/cluster/work/vogtlab/Group/vstrozzi/working-MT2024/utils/factory.py:86: FutureWarning: You are using `torch.load` with `weights_only=False` (the current default value), which uses the default pickle module implicitly. It is possible to construct malicious pickle data which will execute arbitrary code during unpickling (See https://github.com/pytorch/pytorch/blob/main/SECURITY.md#untrusted-models for more details). In a future release, the default value for `weights_only` will be flipped to `True`. This limits the functions that could be executed during unpickling. Arbitrary objects will no longer be allowed to be loaded via this mode unless they are explicitly allowlisted by the user via `torch.serialization.add_safe_globals`. We recommend you start setting `weights_only=True` for any use case where you don't have full control of the loaded file. Please open an issue on GitHub for any issues related to this experimental feature.\n",
      "  checkpoint = torch.load(checkpoint_path, map_location=map_location)\n",
      "Model parameters: 151,277,313\n",
      "Context length: 77\n",
      "Vocab size: 49408\n",
      "/cluster/work/vogtlab/Group/vstrozzi/working-MT2024/compute_text_set_projection.py:64: FutureWarning: `torch.cuda.amp.autocast(args...)` is deprecated. Please use `torch.amp.autocast('cuda', args...)` instead.\n",
      "  with torch.no_grad(), autocast():\n",
      "100%|█████████████████████████████████████████████| 2/2 [00:03<00:00,  1.53s/it]\n"
     ]
    }
   ],
   "source": [
    "!python compute_text_set_projection.py --device cuda:0 --model ViT-B-32 --pretrained laion2b_s34b_b79k --cache_dir \"../cache/\" --data_path text_descriptions/image_descriptions_general.txt"
   ]
  },
  {
   "cell_type": "markdown",
   "metadata": {},
   "source": [
    "# Test complete text set"
   ]
  },
  {
   "cell_type": "code",
   "execution_count": 9,
   "metadata": {},
   "outputs": [
    {
     "name": "stdout",
     "output_type": "stream",
     "text": [
      "/cluster/apps/vogtlab/users/vstrozzi/software/anaconda/envs/MT/lib/python3.12/site-packages/timm/models/layers/__init__.py:48: FutureWarning: Importing from timm.models.layers is deprecated, please import via timm.layers\n",
      "  warnings.warn(f\"Importing from {__name__} is deprecated, please import via timm.layers\", FutureWarning)\n",
      "Number of layers: 12\n",
      "100%|█████████████████████████████████████████████| 8/8 [00:00<00:00, 47.89it/s]\n",
      "  0%|                                                     | 0/4 [00:00<?, ?it/s]Epoch [500/5000], Loss: 0.588107\n",
      "Epoch [1000/5000], Loss: 0.331727\n",
      "Epoch [1500/5000], Loss: 0.198529\n",
      "Epoch [2000/5000], Loss: 0.123015\n",
      "Epoch [2500/5000], Loss: 0.077543\n",
      "Epoch [3000/5000], Loss: 0.049103\n",
      "Epoch [3500/5000], Loss: 0.030961\n",
      "Epoch [4000/5000], Loss: 0.019315\n",
      "Epoch [4500/5000], Loss: 0.011867\n",
      "Epoch [5000/5000], Loss: 0.007163\n",
      "[3040 3302 2784  729 1340 3264 2685 1415 2124 2703 2935 2370 2467 3038\n",
      " 2045 3272  143 3147  857 2094 1229 3014 1491 1386 3064 1750  962 1957\n",
      "  991 3048 2228  612  800 1688 2856 3054 3349  133  136  914 3277 1907\n",
      "  969   34 1251 2497 1832 2505 1473 1819]\n",
      "[0.5943727  0.59070766 0.5879626  0.5861287  0.58601797 0.5855402\n",
      " 0.5852551  0.58513093 0.5847214  0.5846284  0.5842736  0.5840041\n",
      " 0.58397734 0.5834837  0.58340365 0.58295006 0.5829246  0.58252466\n",
      " 0.5820086  0.581979   0.5819484  0.5818078  0.5816171  0.5814934\n",
      " 0.5814173  0.5813556  0.5813197  0.5811939  0.58045596 0.5800678\n",
      " 0.57972693 0.57967126 0.5796623  0.57940596 0.5789218  0.5788798\n",
      " 0.57879657 0.57864285 0.5786051  0.5785891  0.57844496 0.5783813\n",
      " 0.57831585 0.5782491  0.578181   0.57803756 0.5779419  0.5777574\n",
      " 0.5777208  0.5776171 ]\n",
      "Epoch [500/5000], Loss: 0.589170\n",
      "Epoch [1000/5000], Loss: 0.331589\n",
      "Epoch [1500/5000], Loss: 0.198170\n",
      "Epoch [2000/5000], Loss: 0.122694\n",
      "Epoch [2500/5000], Loss: 0.077322\n",
      "Epoch [3000/5000], Loss: 0.048962\n",
      "Epoch [3500/5000], Loss: 0.030871\n",
      "Epoch [4000/5000], Loss: 0.019255\n",
      "^C\n",
      "  0%|                                                     | 0/4 [00:38<?, ?it/s]\n",
      "Traceback (most recent call last):\n",
      "  File \"/cluster/work/vogtlab/Group/vstrozzi/working-MT2024/compute_complete_text_set.py\", line 380, in <module>\n",
      "    main(args)\n",
      "  File \"/cluster/work/vogtlab/Group/vstrozzi/working-MT2024/compute_complete_text_set.py\", line 337, in main\n",
      "    results, texts = splice_data_approx(\n",
      "                     ^^^^^^^^^^^^^^^^^^^\n",
      "  File \"/cluster/work/vogtlab/Group/vstrozzi/working-MT2024/compute_complete_text_set.py\", line 218, in splice_data_approx\n",
      "    if loss.item() < best_loss:\n",
      "       ^^^^^^^^^^^\n",
      "KeyboardInterrupt\n"
     ]
    }
   ],
   "source": [
    "!python compute_complete_text_set.py --device cuda:0 --model ViT-B-32 --texts_per_head 50 --num_of_last_layers 4 --text_descriptions image_descriptions_general"
   ]
  },
  {
   "cell_type": "code",
   "execution_count": null,
   "metadata": {},
   "outputs": [],
   "source": []
  }
 ],
 "metadata": {
  "kernelspec": {
   "display_name": "MT",
   "language": "python",
   "name": "python3"
  },
  "language_info": {
   "codemirror_mode": {
    "name": "ipython",
    "version": 3
   },
   "file_extension": ".py",
   "mimetype": "text/x-python",
   "name": "python",
   "nbconvert_exporter": "python",
   "pygments_lexer": "ipython3",
   "version": "3.12.7"
  }
 },
 "nbformat": 4,
 "nbformat_minor": 2
}
